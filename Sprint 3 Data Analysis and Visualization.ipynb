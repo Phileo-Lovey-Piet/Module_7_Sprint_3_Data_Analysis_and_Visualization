{
 "cells": [
  {
   "cell_type": "code",
   "execution_count": 120,
   "metadata": {},
   "outputs": [],
   "source": [
    "import pandas as pd\n",
    "import numpy as np\n",
    "import matplotlib.pyplot as plt\n",
    "\n",
    "\n",
    "Data = pd.read_csv(\"Data_ WHO Coronavirus Covid-19 Cases and Deaths - WHO-COVID-19-global-data.csv\")\n",
    "\n"
   ]
  },
  {
   "cell_type": "code",
   "execution_count": 80,
   "metadata": {},
   "outputs": [],
   "source": [
    "Afg = Data[Data.COUNTRY_NAME == 'Afghanistan']\n",
    "\n",
    "Alb = Data[Data.COUNTRY_NAME == 'Albania']\n",
    "\n",
    "Arg = Data[Data.COUNTRY_NAME == 'Argentina']\n",
    "\n",
    "Bah = Data[Data.COUNTRY_NAME == 'Bahamas']\n",
    "\n",
    "SA = Data[Data.COUNTRY_NAME == 'South Africa']\n",
    "\n",
    "Sud = Data[Data.COUNTRY_NAME == 'Sudan']\n",
    "\n",
    "Uru = Data[Data.COUNTRY_NAME == 'Uruguay']\n",
    "\n",
    "Zim = Data[Data.COUNTRY_NAME == 'Zimbabwe']"
   ]
  },
  {
   "cell_type": "code",
   "execution_count": null,
   "metadata": {},
   "outputs": [],
   "source": []
  },
  {
   "cell_type": "code",
   "execution_count": null,
   "metadata": {},
   "outputs": [],
   "source": [
    "plt.figure(figsize=(25,10))\n",
    "plt.plot(Afg.Date_epicrv, Afg.TotalCase)\n",
    "plt.plot(Alb.Date_epicrv, Alb.TotalCase)\n",
    "plt.plot(Arg.Date_epicrv, Arg.TotalCase)\n",
    "plt.plot(Bah.Date_epicrv, Bah.TotalCase)\n",
    "plt.plot(SA.Date_epicrv, SA.TotalCase)\n",
    "plt.plot(Sud.Date_epicrv, Sud.TotalCase)\n",
    "plt.plot(Uru.Date_epicrv, Uru.TotalCase)\n",
    "plt.plot(Zim.Date_epicrv, Zim.TotalCase)\n",
    "plt.title('Total Cases of Covid recorded daily', fontsize=24)\n",
    "plt.legend(['Afghanistan', 'Albania', 'Argentina', 'Bahamas', 'South Africa', 'Sudan', 'Uruguay', 'Zimbabwe'], fontsize=16)\n",
    "plt.xlabel('Day', fontsize=22)\n",
    "plt.ylabel('Total Cases of Covid-19', fontsize=22)\n",
    "plt.xticks(rotation=90, fontsize=18)\n",
    "plt.yticks(fontsize=18)\n",
    "plt.show()\n"
   ]
  },
  {
   "cell_type": "code",
   "execution_count": 122,
   "metadata": {},
   "outputs": [],
   "source": [
    "samp = Data[Data.Date_epicrv == '2020-04-23T00:00:00.000Z']\n",
    "\n"
   ]
  },
  {
   "cell_type": "code",
   "execution_count": 97,
   "metadata": {},
   "outputs": [],
   "source": [
    "sampCN = samp.COUNTRY_NAME[0:10]"
   ]
  },
  {
   "cell_type": "code",
   "execution_count": 98,
   "metadata": {},
   "outputs": [],
   "source": [
    "sampTC = samp.TotalCase[0:10]"
   ]
  },
  {
   "cell_type": "code",
   "execution_count": null,
   "metadata": {},
   "outputs": [],
   "source": [
    "plt.figure(figsize=(25,15))\n",
    "plt.bar(sampCN, sampTC, label='Total Cases of Covid-19')\n",
    "plt.title('The Total Cases of Covid-19 on the last day recorded', fontsize=24)\n",
    "plt.xlabel('Country', fontsize=22)\n",
    "plt.ylabel('Total Cases of Covid-19 on 2020-04-23', fontsize=22)\n",
    "plt.xticks(fontsize=16)\n",
    "plt.yticks(fontsize=18)\n",
    "plt.legend(loc='upper left', fontsize=20)\n",
    "plt.show()"
   ]
  },
  {
   "cell_type": "code",
   "execution_count": null,
   "metadata": {},
   "outputs": [],
   "source": []
  }
 ],
 "metadata": {
  "kernelspec": {
   "display_name": "Python 3",
   "language": "python",
   "name": "python3"
  },
  "language_info": {
   "codemirror_mode": {
    "name": "ipython",
    "version": 3
   },
   "file_extension": ".py",
   "mimetype": "text/x-python",
   "name": "python",
   "nbconvert_exporter": "python",
   "pygments_lexer": "ipython3",
   "version": "3.7.6"
  }
 },
 "nbformat": 4,
 "nbformat_minor": 4
}
